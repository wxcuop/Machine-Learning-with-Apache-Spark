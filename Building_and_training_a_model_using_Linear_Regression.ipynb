{
  "metadata": {
    "kernelspec": {
      "name": "python",
      "display_name": "Python (Pyodide)",
      "language": "python"
    },
    "language_info": {
      "codemirror_mode": {
        "name": "python",
        "version": 3
      },
      "file_extension": ".py",
      "mimetype": "text/x-python",
      "name": "python",
      "nbconvert_exporter": "python",
      "pygments_lexer": "ipython3",
      "version": "3.8"
    },
    "prev_pub_hash": "3295c58449e10e36934fbfb7240d185e0a1cdc184f3987613a24470680c1d8f3"
  },
  "nbformat_minor": 4,
  "nbformat": 4,
  "cells": [
    {
      "cell_type": "markdown",
      "source": "<p style=\"text-align:center\">\n    <a href=\"https://skills.network\" target=\"_blank\">\n    <img src=\"https://cf-courses-data.s3.us.cloud-object-storage.appdomain.cloud/assets/logos/SN_web_lightmode.png\" width=\"200\" alt=\"Skills Network Logo\">\n    </a>\n</p>\n",
      "metadata": {}
    },
    {
      "cell_type": "markdown",
      "source": "## Predictions: Regression for Car Mileage and Diamond Price\n",
      "metadata": {}
    },
    {
      "cell_type": "markdown",
      "source": "<img src=\"https://cf-courses-data.s3.us.cloud-object-storage.appdomain.cloud/IBM-BD0231EN-SkillsNetwork/CarsnDiamonds.png\" width=\"50%\">\n",
      "metadata": {}
    },
    {
      "cell_type": "markdown",
      "source": "Estimated time needed: **30** minutes\n",
      "metadata": {}
    },
    {
      "cell_type": "markdown",
      "source": "<p style='color: red'>The purpose of this lab is to show you how to use a car data set to train a regression model that will predict the mileage of a car.</p>\n",
      "metadata": {}
    },
    {
      "cell_type": "markdown",
      "source": "## __Table of Contents__\n\n<ol>\n    <li><a href=\"#Objectives\">Objectives</a></li>\n    <li><a href=\"#Datasets\">Datasets</a></li>\n    <li>\n        <a href=\"#Setup\">Setup</a>\n        <ol>\n            <li><a href=\"#Installing-Required-Libraries\">Installing Required Libraries</a></li>\n            <li><a href=\"#Importing-Required-Libraries\">Importing Required Libraries</a></li>\n        </ol>\n    </li>\n    <li>\n        <a href=\"#Examples\">Examples</a>\n        <ol>\n            <li><a href=\"#Task-1---Load-the-data-in-a-csv-file-into-a-dataframe\">Task 1 - Load the data in a csv file into a dataframe</a></li>\n    <li><a href=\"#Task-2---Identify-the-target-column-and-the-data-columns\">Task 2 - Identify the target column and the data columns</a></li>\n    <li><a href=\"#Task-3---Build-and-Train-a-Linear-Regression-Model\">Task 3 - Build and Train a Linear Regression Model</a></li>\n    <li><a href=\"#Task-4---Evaluate-the-model-and-make-predictions\">Task 4 - Evaluate the model and make predictions</a></li>        </ol>\n    </li>\n    \n\n\n<li><a href=\"#Exercises\">Exercises</a></li>\n<ol>\n    <li><a href=\"#Exercise-1---Loading-a-dataset-(diamond-dataset)\">Exercise 1 - Loading a dataset (diamond dataset)</a></li>\n    <li><a href=\"#Exercise-2---Identify-the-target-column-and-the-data-columns\">Exercise 2 - Identify the target column and the data columns</a></li>\n    <li><a href=\"#Exercise-3---Build-and-Train-a-new-Linear-Regression-Model\">Exercise 3 - Build and Train a new Linear Regression Model</a></li>\n    <li><a href=\"#Exercise-4---Evaluate-the-model\">Exercise 4 - Evaluate the model</a></li>\n    <li><a href=\"#Exercise-5---Predict-the-price-of-a-diamond\">Exercise 5 - Predict the price of a diamond</a></li>\n    </ol>\n</ol>\n\n\n",
      "metadata": {}
    },
    {
      "cell_type": "markdown",
      "source": "## Objectives\n\nAfter completing this lab you will be able to:\n\n - Use Pandas to load data sets.\n - Identify the target and features.\n - Use Linear Regression to build a model to predict car mileage.\n - Use metrics to evaluate the model.\n - Make predictions using a trained model.\n",
      "metadata": {}
    },
    {
      "cell_type": "markdown",
      "source": "## Datasets\n\nIn this lab you will be using dataset(s):\n\n - Modified version of car mileage dataset. Available at https://archive.ics.uci.edu/ml/datasets/auto+mpg \n - Modified version of diamonds dataset. Available at https://www.openml.org/search?type=data&sort=runs&id=42225&status=active\n \n",
      "metadata": {}
    },
    {
      "cell_type": "markdown",
      "source": "----\n",
      "metadata": {}
    },
    {
      "cell_type": "markdown",
      "source": "## Setup\n",
      "metadata": {}
    },
    {
      "cell_type": "markdown",
      "source": "For this lab, we will be using the following libraries:\n\n*   [`pandas`](https://pandas.pydata.org/?utm_medium=Exinfluencer&utm_source=Exinfluencer&utm_content=000026UJ&utm_term=10006555&utm_id=NA-SkillsNetwork-Channel-SkillsNetworkCoursesIBMML0187ENSkillsNetwork31430127-2021-01-01) for managing the data.\n*   [`sklearn`](https://scikit-learn.org/stable/?utm_medium=Exinfluencer&utm_source=Exinfluencer&utm_content=000026UJ&utm_term=10006555&utm_id=NA-SkillsNetwork-Channel-SkillsNetworkCoursesIBMML0187ENSkillsNetwork31430127-2021-01-01) for machine learning and machine-learning-pipeline related functions.\n",
      "metadata": {}
    },
    {
      "cell_type": "markdown",
      "source": "### Installing Required Libraries\n\nThe following required libraries are pre-installed in the Skills Network Labs environment. However, if you run this notebook commands in a different Jupyter environment (e.g. Watson Studio or Ananconda), you will need to install these libraries by removing the `#` sign before `!pip` in the code cell below.\n",
      "metadata": {}
    },
    {
      "cell_type": "code",
      "source": "# All Libraries required for this lab are listed below. The libraries pre-installed on Skills Network Labs are commented.\n# !pip install pandas==1.3.4\n# !pip install scikit-learn==1.0.2\n# !pip install numpy==1.21.6\n\n%pip install pandas\n%pip install scikit-learn\n%pip install matplotlib\n%pip install numpy",
      "metadata": {
        "trusted": true
      },
      "outputs": [],
      "execution_count": 1
    },
    {
      "cell_type": "code",
      "source": "# You can also use this section to suppress warnings generated by your code:\ndef warn(*args, **kwargs):\n    pass\nimport warnings\nwarnings.warn = warn\nwarnings.filterwarnings('ignore')",
      "metadata": {
        "trusted": true
      },
      "outputs": [],
      "execution_count": 2
    },
    {
      "cell_type": "markdown",
      "source": "### Importing Required Libraries\n",
      "metadata": {}
    },
    {
      "cell_type": "code",
      "source": "import pandas as pd\nfrom sklearn.linear_model import LinearRegression",
      "metadata": {
        "trusted": true
      },
      "outputs": [],
      "execution_count": 3
    },
    {
      "cell_type": "markdown",
      "source": "## Task 1 - Load the data in a csv file into a dataframe\n",
      "metadata": {}
    },
    {
      "cell_type": "code",
      "source": "import requests\n\n# the data set is available at the url below.\nURL = \"https://cf-courses-data.s3.us.cloud-object-storage.appdomain.cloud/IBM-BD0231EN-SkillsNetwork/datasets/mpg.csv\"\nresponse = requests.get(URL)\n# using the read_csv function in the pandas library, we load the data into a dataframe.\nopen('mpg.csv', 'wb').write(response.content)\ndf = pd.read_csv('mpg.csv')\n",
      "metadata": {
        "trusted": true
      },
      "outputs": [],
      "execution_count": 5
    },
    {
      "cell_type": "markdown",
      "source": "Let's look at some sample rows from the dataset we loaded:\n",
      "metadata": {}
    },
    {
      "cell_type": "code",
      "source": "# show 5 random rows from the dataset\ndf.sample(5)",
      "metadata": {
        "trusted": true
      },
      "outputs": [
        {
          "execution_count": 6,
          "output_type": "execute_result",
          "data": {
            "text/plain": "      MPG  Cylinders  Engine Disp  Horsepower  Weight  Accelerate  Year  \\\n278  20.2          6        232.0          90    3265        18.2    79   \n150  20.0          6        232.0         100    2914        16.0    75   \n157  20.0          8        262.0         110    3221        13.5    75   \n313  34.3          4         97.0          78    2188        15.8    80   \n229  19.0          6        225.0         100    3630        17.7    77   \n\n       Origin  \n278  American  \n150  American  \n157  American  \n313  European  \n229  American  ",
            "text/html": "<div>\n<style scoped>\n    .dataframe tbody tr th:only-of-type {\n        vertical-align: middle;\n    }\n\n    .dataframe tbody tr th {\n        vertical-align: top;\n    }\n\n    .dataframe thead th {\n        text-align: right;\n    }\n</style>\n<table border=\"1\" class=\"dataframe\">\n  <thead>\n    <tr style=\"text-align: right;\">\n      <th></th>\n      <th>MPG</th>\n      <th>Cylinders</th>\n      <th>Engine Disp</th>\n      <th>Horsepower</th>\n      <th>Weight</th>\n      <th>Accelerate</th>\n      <th>Year</th>\n      <th>Origin</th>\n    </tr>\n  </thead>\n  <tbody>\n    <tr>\n      <th>278</th>\n      <td>20.2</td>\n      <td>6</td>\n      <td>232.0</td>\n      <td>90</td>\n      <td>3265</td>\n      <td>18.2</td>\n      <td>79</td>\n      <td>American</td>\n    </tr>\n    <tr>\n      <th>150</th>\n      <td>20.0</td>\n      <td>6</td>\n      <td>232.0</td>\n      <td>100</td>\n      <td>2914</td>\n      <td>16.0</td>\n      <td>75</td>\n      <td>American</td>\n    </tr>\n    <tr>\n      <th>157</th>\n      <td>20.0</td>\n      <td>8</td>\n      <td>262.0</td>\n      <td>110</td>\n      <td>3221</td>\n      <td>13.5</td>\n      <td>75</td>\n      <td>American</td>\n    </tr>\n    <tr>\n      <th>313</th>\n      <td>34.3</td>\n      <td>4</td>\n      <td>97.0</td>\n      <td>78</td>\n      <td>2188</td>\n      <td>15.8</td>\n      <td>80</td>\n      <td>European</td>\n    </tr>\n    <tr>\n      <th>229</th>\n      <td>19.0</td>\n      <td>6</td>\n      <td>225.0</td>\n      <td>100</td>\n      <td>3630</td>\n      <td>17.7</td>\n      <td>77</td>\n      <td>American</td>\n    </tr>\n  </tbody>\n</table>\n</div>"
          },
          "metadata": {}
        }
      ],
      "execution_count": 6
    },
    {
      "cell_type": "markdown",
      "source": "Let's find out the number of rows and columns in the dataset:\n",
      "metadata": {}
    },
    {
      "cell_type": "code",
      "source": "df.shape",
      "metadata": {
        "trusted": true
      },
      "outputs": [
        {
          "execution_count": 7,
          "output_type": "execute_result",
          "data": {
            "text/plain": "(392, 8)"
          },
          "metadata": {}
        }
      ],
      "execution_count": 7
    },
    {
      "cell_type": "markdown",
      "source": "Let's create a scatter plot of Horsepower versus mileage(MPG) . This will help us visualize the relationship between them.\n",
      "metadata": {}
    },
    {
      "cell_type": "code",
      "source": "df.plot.scatter(x = \"Horsepower\", y = \"MPG\")",
      "metadata": {
        "trusted": true
      },
      "outputs": [
        {
          "name": "stderr",
          "output_type": "stream",
          "text": "Matplotlib is building the font cache; this may take a moment.\n"
        },
        {
          "execution_count": 8,
          "output_type": "execute_result",
          "data": {
            "text/plain": "<Axes: xlabel='Horsepower', ylabel='MPG'>"
          },
          "metadata": {}
        },
        {
          "output_type": "display_data",
          "data": {
            "text/plain": "<Figure size 640x480 with 1 Axes>",
            "image/png": "[encoded data removed]"
          },
          "metadata": {}
        }
      ],
      "execution_count": 8
    },
    {
      "cell_type": "markdown",
      "source": "You are encouraged to create more plots to visualize relationships amongst other columns\n",
      "metadata": {}
    },
    {
      "cell_type": "markdown",
      "source": "## Task 2 - Identify the target column and the data columns\n",
      "metadata": {}
    },
    {
      "cell_type": "markdown",
      "source": "First we identify the target. Target is the value that our machine learning model needs to predict\n",
      "metadata": {}
    },
    {
      "cell_type": "code",
      "source": "target = df[\"MPG\"]",
      "metadata": {
        "trusted": true
      },
      "outputs": [],
      "execution_count": 9
    },
    {
      "cell_type": "markdown",
      "source": "We identify the features next. Features are the values our machine learning model learns from\n",
      "metadata": {}
    },
    {
      "cell_type": "code",
      "source": "features = df[[\"Horsepower\",\"Weight\"]]",
      "metadata": {
        "trusted": true
      },
      "outputs": [],
      "execution_count": 10
    },
    {
      "cell_type": "markdown",
      "source": "## Task 3 - Build and Train a Linear Regression Model\n",
      "metadata": {}
    },
    {
      "cell_type": "markdown",
      "source": "Create a LR model\n",
      "metadata": {}
    },
    {
      "cell_type": "code",
      "source": "lr = LinearRegression()",
      "metadata": {
        "trusted": true
      },
      "outputs": [],
      "execution_count": 11
    },
    {
      "cell_type": "markdown",
      "source": "Train/Fit the model\n",
      "metadata": {}
    },
    {
      "cell_type": "code",
      "source": "lr.fit(features,target)",
      "metadata": {
        "trusted": true
      },
      "outputs": [
        {
          "execution_count": 12,
          "output_type": "execute_result",
          "data": {
            "text/plain": "LinearRegression()",
            "text/html": "<style>#sk-container-id-1 {\n  /* Definition of color scheme common for light and dark mode */\n  --sklearn-color-text: black;\n  --sklearn-color-line: gray;\n  /* Definition of color scheme for unfitted estimators */\n  --sklearn-color-unfitted-level-0: #fff5e6;\n  --sklearn-color-unfitted-level-1: #f6e4d2;\n  --sklearn-color-unfitted-level-2: #ffe0b3;\n  --sklearn-color-unfitted-level-3: chocolate;\n  /* Definition of color scheme for fitted estimators */\n  --sklearn-color-fitted-level-0: #f0f8ff;\n  --sklearn-color-fitted-level-1: #d4ebff;\n  --sklearn-color-fitted-level-2: #b3dbfd;\n  --sklearn-color-fitted-level-3: cornflowerblue;\n\n  /* Specific color for light theme */\n  --sklearn-color-text-on-default-background: var(--sg-text-color, var(--theme-code-foreground, var(--jp-content-font-color1, black)));\n  --sklearn-color-background: var(--sg-background-color, var(--theme-background, var(--jp-layout-color0, white)));\n  --sklearn-color-border-box: var(--sg-text-color, var(--theme-code-foreground, var(--jp-content-font-color1, black)));\n  --sklearn-color-icon: #696969;\n\n  @media (prefers-color-scheme: dark) {\n    /* Redefinition of color scheme for dark theme */\n    --sklearn-color-text-on-default-background: var(--sg-text-color, var(--theme-code-foreground, var(--jp-content-font-color1, white)));\n    --sklearn-color-background: var(--sg-background-color, var(--theme-background, var(--jp-layout-color0, #111)));\n    --sklearn-color-border-box: var(--sg-text-color, var(--theme-code-foreground, var(--jp-content-font-color1, white)));\n    --sklearn-color-icon: #878787;\n  }\n}\n\n#sk-container-id-1 {\n  color: var(--sklearn-color-text);\n}\n\n#sk-container-id-1 pre {\n  padding: 0;\n}\n\n#sk-container-id-1 input.sk-hidden--visually {\n  border: 0;\n  clip: rect(1px 1px 1px 1px);\n  clip: rect(1px, 1px, 1px, 1px);\n  height: 1px;\n  margin: -1px;\n  overflow: hidden;\n  padding: 0;\n  position: absolute;\n  width: 1px;\n}\n\n#sk-container-id-1 div.sk-dashed-wrapped {\n  border: 1px dashed var(--sklearn-color-line);\n  margin: 0 0.4em 0.5em 0.4em;\n  box-sizing: border-box;\n  padding-bottom: 0.4em;\n  background-color: var(--sklearn-color-background);\n}\n\n#sk-container-id-1 div.sk-container {\n  /* jupyter's `normalize.less` sets `[hidden] { display: none; }`\n     but bootstrap.min.css set `[hidden] { display: none !important; }`\n     so we also need the `!important` here to be able to override the\n     default hidden behavior on the sphinx rendered scikit-learn.org.\n     See: https://github.com/scikit-learn/scikit-learn/issues/21755 */\n  display: inline-block !important;\n  position: relative;\n}\n\n#sk-container-id-1 div.sk-text-repr-fallback {\n  display: none;\n}\n\ndiv.sk-parallel-item,\ndiv.sk-serial,\ndiv.sk-item {\n  /* draw centered vertical line to link estimators */\n  background-image: linear-gradient(var(--sklearn-color-text-on-default-background), var(--sklearn-color-text-on-default-background));\n  background-size: 2px 100%;\n  background-repeat: no-repeat;\n  background-position: center center;\n}\n\n/* Parallel-specific style estimator block */\n\n#sk-container-id-1 div.sk-parallel-item::after {\n  content: \"\";\n  width: 100%;\n  border-bottom: 2px solid var(--sklearn-color-text-on-default-background);\n  flex-grow: 1;\n}\n\n#sk-container-id-1 div.sk-parallel {\n  display: flex;\n  align-items: stretch;\n  justify-content: center;\n  background-color: var(--sklearn-color-background);\n  position: relative;\n}\n\n#sk-container-id-1 div.sk-parallel-item {\n  display: flex;\n  flex-direction: column;\n}\n\n#sk-container-id-1 div.sk-parallel-item:first-child::after {\n  align-self: flex-end;\n  width: 50%;\n}\n\n#sk-container-id-1 div.sk-parallel-item:last-child::after {\n  align-self: flex-start;\n  width: 50%;\n}\n\n#sk-container-id-1 div.sk-parallel-item:only-child::after {\n  width: 0;\n}\n\n/* Serial-specific style estimator block */\n\n#sk-container-id-1 div.sk-serial {\n  display: flex;\n  flex-direction: column;\n  align-items: center;\n  background-color: var(--sklearn-color-background);\n  padding-right: 1em;\n  padding-left: 1em;\n}\n\n\n/* Toggleable style: style used for estimator/Pipeline/ColumnTransformer box that is\nclickable and can be expanded/collapsed.\n- Pipeline and ColumnTransformer use this feature and define the default style\n- Estimators will overwrite some part of the style using the `sk-estimator` class\n*/\n\n/* Pipeline and ColumnTransformer style (default) */\n\n#sk-container-id-1 div.sk-toggleable {\n  /* Default theme specific background. It is overwritten whether we have a\n  specific estimator or a Pipeline/ColumnTransformer */\n  background-color: var(--sklearn-color-background);\n}\n\n/* Toggleable label */\n#sk-container-id-1 label.sk-toggleable__label {\n  cursor: pointer;\n  display: block;\n  width: 100%;\n  margin-bottom: 0;\n  padding: 0.5em;\n  box-sizing: border-box;\n  text-align: center;\n}\n\n#sk-container-id-1 label.sk-toggleable__label-arrow:before {\n  /* Arrow on the left of the label */\n  content: \"▸\";\n  float: left;\n  margin-right: 0.25em;\n  color: var(--sklearn-color-icon);\n}\n\n#sk-container-id-1 label.sk-toggleable__label-arrow:hover:before {\n  color: var(--sklearn-color-text);\n}\n\n/* Toggleable content - dropdown */\n\n#sk-container-id-1 div.sk-toggleable__content {\n  max-height: 0;\n  max-width: 0;\n  overflow: hidden;\n  text-align: left;\n  /* unfitted */\n  background-color: var(--sklearn-color-unfitted-level-0);\n}\n\n#sk-container-id-1 div.sk-toggleable__content.fitted {\n  /* fitted */\n  background-color: var(--sklearn-color-fitted-level-0);\n}\n\n#sk-container-id-1 div.sk-toggleable__content pre {\n  margin: 0.2em;\n  border-radius: 0.25em;\n  color: var(--sklearn-color-text);\n  /* unfitted */\n  background-color: var(--sklearn-color-unfitted-level-0);\n}\n\n#sk-container-id-1 div.sk-toggleable__content.fitted pre {\n  /* unfitted */\n  background-color: var(--sklearn-color-fitted-level-0);\n}\n\n#sk-container-id-1 input.sk-toggleable__control:checked~div.sk-toggleable__content {\n  /* Expand drop-down */\n  max-height: 200px;\n  max-width: 100%;\n  overflow: auto;\n}\n\n#sk-container-id-1 input.sk-toggleable__control:checked~label.sk-toggleable__label-arrow:before {\n  content: \"▾\";\n}\n\n/* Pipeline/ColumnTransformer-specific style */\n\n#sk-container-id-1 div.sk-label input.sk-toggleable__control:checked~label.sk-toggleable__label {\n  color: var(--sklearn-color-text);\n  background-color: var(--sklearn-color-unfitted-level-2);\n}\n\n#sk-container-id-1 div.sk-label.fitted input.sk-toggleable__control:checked~label.sk-toggleable__label {\n  background-color: var(--sklearn-color-fitted-level-2);\n}\n\n/* Estimator-specific style */\n\n/* Colorize estimator box */\n#sk-container-id-1 div.sk-estimator input.sk-toggleable__control:checked~label.sk-toggleable__label {\n  /* unfitted */\n  background-color: var(--sklearn-color-unfitted-level-2);\n}\n\n#sk-container-id-1 div.sk-estimator.fitted input.sk-toggleable__control:checked~label.sk-toggleable__label {\n  /* fitted */\n  background-color: var(--sklearn-color-fitted-level-2);\n}\n\n#sk-container-id-1 div.sk-label label.sk-toggleable__label,\n#sk-container-id-1 div.sk-label label {\n  /* The background is the default theme color */\n  color: var(--sklearn-color-text-on-default-background);\n}\n\n/* On hover, darken the color of the background */\n#sk-container-id-1 div.sk-label:hover label.sk-toggleable__label {\n  color: var(--sklearn-color-text);\n  background-color: var(--sklearn-color-unfitted-level-2);\n}\n\n/* Label box, darken color on hover, fitted */\n#sk-container-id-1 div.sk-label.fitted:hover label.sk-toggleable__label.fitted {\n  color: var(--sklearn-color-text);\n  background-color: var(--sklearn-color-fitted-level-2);\n}\n\n/* Estimator label */\n\n#sk-container-id-1 div.sk-label label {\n  font-family: monospace;\n  font-weight: bold;\n  display: inline-block;\n  line-height: 1.2em;\n}\n\n#sk-container-id-1 div.sk-label-container {\n  text-align: center;\n}\n\n/* Estimator-specific */\n#sk-container-id-1 div.sk-estimator {\n  font-family: monospace;\n  border: 1px dotted var(--sklearn-color-border-box);\n  border-radius: 0.25em;\n  box-sizing: border-box;\n  margin-bottom: 0.5em;\n  /* unfitted */\n  background-color: var(--sklearn-color-unfitted-level-0);\n}\n\n#sk-container-id-1 div.sk-estimator.fitted {\n  /* fitted */\n  background-color: var(--sklearn-color-fitted-level-0);\n}\n\n/* on hover */\n#sk-container-id-1 div.sk-estimator:hover {\n  /* unfitted */\n  background-color: var(--sklearn-color-unfitted-level-2);\n}\n\n#sk-container-id-1 div.sk-estimator.fitted:hover {\n  /* fitted */\n  background-color: var(--sklearn-color-fitted-level-2);\n}\n\n/* Specification for estimator info (e.g. \"i\" and \"?\") */\n\n/* Common style for \"i\" and \"?\" */\n\n.sk-estimator-doc-link,\na:link.sk-estimator-doc-link,\na:visited.sk-estimator-doc-link {\n  float: right;\n  font-size: smaller;\n  line-height: 1em;\n  font-family: monospace;\n  background-color: var(--sklearn-color-background);\n  border-radius: 1em;\n  height: 1em;\n  width: 1em;\n  text-decoration: none !important;\n  margin-left: 1ex;\n  /* unfitted */\n  border: var(--sklearn-color-unfitted-level-1) 1pt solid;\n  color: var(--sklearn-color-unfitted-level-1);\n}\n\n.sk-estimator-doc-link.fitted,\na:link.sk-estimator-doc-link.fitted,\na:visited.sk-estimator-doc-link.fitted {\n  /* fitted */\n  border: var(--sklearn-color-fitted-level-1) 1pt solid;\n  color: var(--sklearn-color-fitted-level-1);\n}\n\n/* On hover */\ndiv.sk-estimator:hover .sk-estimator-doc-link:hover,\n.sk-estimator-doc-link:hover,\ndiv.sk-label-container:hover .sk-estimator-doc-link:hover,\n.sk-estimator-doc-link:hover {\n  /* unfitted */\n  background-color: var(--sklearn-color-unfitted-level-3);\n  color: var(--sklearn-color-background);\n  text-decoration: none;\n}\n\ndiv.sk-estimator.fitted:hover .sk-estimator-doc-link.fitted:hover,\n.sk-estimator-doc-link.fitted:hover,\ndiv.sk-label-container:hover .sk-estimator-doc-link.fitted:hover,\n.sk-estimator-doc-link.fitted:hover {\n  /* fitted */\n  background-color: var(--sklearn-color-fitted-level-3);\n  color: var(--sklearn-color-background);\n  text-decoration: none;\n}\n\n/* Span, style for the box shown on hovering the info icon */\n.sk-estimator-doc-link span {\n  display: none;\n  z-index: 9999;\n  position: relative;\n  font-weight: normal;\n  right: .2ex;\n  padding: .5ex;\n  margin: .5ex;\n  width: min-content;\n  min-width: 20ex;\n  max-width: 50ex;\n  color: var(--sklearn-color-text);\n  box-shadow: 2pt 2pt 4pt #999;\n  /* unfitted */\n  background: var(--sklearn-color-unfitted-level-0);\n  border: .5pt solid var(--sklearn-color-unfitted-level-3);\n}\n\n.sk-estimator-doc-link.fitted span {\n  /* fitted */\n  background: var(--sklearn-color-fitted-level-0);\n  border: var(--sklearn-color-fitted-level-3);\n}\n\n.sk-estimator-doc-link:hover span {\n  display: block;\n}\n\n/* \"?\"-specific style due to the `<a>` HTML tag */\n\n#sk-container-id-1 a.estimator_doc_link {\n  float: right;\n  font-size: 1rem;\n  line-height: 1em;\n  font-family: monospace;\n  background-color: var(--sklearn-color-background);\n  border-radius: 1rem;\n  height: 1rem;\n  width: 1rem;\n  text-decoration: none;\n  /* unfitted */\n  color: var(--sklearn-color-unfitted-level-1);\n  border: var(--sklearn-color-unfitted-level-1) 1pt solid;\n}\n\n#sk-container-id-1 a.estimator_doc_link.fitted {\n  /* fitted */\n  border: var(--sklearn-color-fitted-level-1) 1pt solid;\n  color: var(--sklearn-color-fitted-level-1);\n}\n\n/* On hover */\n#sk-container-id-1 a.estimator_doc_link:hover {\n  /* unfitted */\n  background-color: var(--sklearn-color-unfitted-level-3);\n  color: var(--sklearn-color-background);\n  text-decoration: none;\n}\n\n#sk-container-id-1 a.estimator_doc_link.fitted:hover {\n  /* fitted */\n  background-color: var(--sklearn-color-fitted-level-3);\n}\n</style><div id=\"sk-container-id-1\" class=\"sk-top-container\"><div class=\"sk-text-repr-fallback\"><pre>LinearRegression()</pre><b>In a Jupyter environment, please rerun this cell to show the HTML representation or trust the notebook. <br />On GitHub, the HTML representation is unable to render, please try loading this page with nbviewer.org.</b></div><div class=\"sk-container\" hidden><div class=\"sk-item\"><div class=\"sk-estimator fitted sk-toggleable\"><input class=\"sk-toggleable__control sk-hidden--visually\" id=\"sk-estimator-id-1\" type=\"checkbox\" checked><label for=\"sk-estimator-id-1\" class=\"sk-toggleable__label fitted sk-toggleable__label-arrow fitted\">&nbsp;&nbsp;LinearRegression<a class=\"sk-estimator-doc-link fitted\" rel=\"noreferrer\" target=\"_blank\" href=\"https://scikit-learn.org/1.5/modules/generated/sklearn.linear_model.LinearRegression.html\">?<span>Documentation for LinearRegression</span></a><span class=\"sk-estimator-doc-link fitted\">i<span>Fitted</span></span></label><div class=\"sk-toggleable__content fitted\"><pre>LinearRegression()</pre></div> </div></div></div></div>"
          },
          "metadata": {}
        }
      ],
      "execution_count": 12
    },
    {
      "cell_type": "markdown",
      "source": "## Task 4 - Evaluate the model and make predictions\n",
      "metadata": {}
    },
    {
      "cell_type": "markdown",
      "source": "Your model is now trained. Time to evaluate the model.\n",
      "metadata": {}
    },
    {
      "cell_type": "code",
      "source": "#Higher the score, better the model.\nlr.score(features,target)",
      "metadata": {
        "trusted": true
      },
      "outputs": [
        {
          "execution_count": 13,
          "output_type": "execute_result",
          "data": {
            "text/plain": "0.7063752737298348"
          },
          "metadata": {}
        }
      ],
      "execution_count": 13
    },
    {
      "cell_type": "markdown",
      "source": "Make predictions. Let us predict the mileage for a car with HorsePower = 100 and Weight = 2000\n",
      "metadata": {}
    },
    {
      "cell_type": "code",
      "source": "lr.predict([[100,2000]])",
      "metadata": {
        "trusted": true
      },
      "outputs": [
        {
          "execution_count": 14,
          "output_type": "execute_result",
          "data": {
            "text/plain": "array([29.3216098])"
          },
          "metadata": {}
        }
      ],
      "execution_count": 14
    },
    {
      "cell_type": "code",
      "source": "# 29.3216098 miles per gallon is the mileage of a car with HorsePower = 100 and Weight = 2000",
      "metadata": {},
      "outputs": [],
      "execution_count": null
    },
    {
      "cell_type": "markdown",
      "source": "# Exercises\n",
      "metadata": {}
    },
    {
      "cell_type": "code",
      "source": "URL2 = \"https://cf-courses-data.s3.us.cloud-object-storage.appdomain.cloud/IBM-BD0231EN-SkillsNetwork/datasets/diamonds.csv\"",
      "metadata": {},
      "outputs": [],
      "execution_count": null
    },
    {
      "cell_type": "markdown",
      "source": "### Exercise 1 - Loading a dataset (diamond dataset)\n",
      "metadata": {}
    },
    {
      "cell_type": "code",
      "source": "df2 = #TODO",
      "metadata": {},
      "outputs": [],
      "execution_count": null
    },
    {
      "cell_type": "markdown",
      "source": "<details>\n    <summary>Click here for a Hint</summary>\n    \nUse the read_csv function\n\n</details>\n",
      "metadata": {}
    },
    {
      "cell_type": "markdown",
      "source": "<details>\n    <summary>Click here for Solution</summary>\n\n```python\ndf2 = pd.read_csv(URL2)\n```\n\n</details>\n",
      "metadata": {}
    },
    {
      "cell_type": "markdown",
      "source": "### Exercise 2 - Identify the target column and the data columns\n",
      "metadata": {}
    },
    {
      "cell_type": "markdown",
      "source": " - use the price column as target\n - use the columns carat and depth as features\n",
      "metadata": {}
    },
    {
      "cell_type": "code",
      "source": "target = # TODO\nfeatures = # TODO",
      "metadata": {},
      "outputs": [],
      "execution_count": null
    },
    {
      "cell_type": "markdown",
      "source": "<details>\n    <summary>Click here for a Hint</summary>\n    \nRefer to Task2\n</details>\n",
      "metadata": {}
    },
    {
      "cell_type": "markdown",
      "source": "<details>\n    <summary>Click here for Solution</summary>\n\n```python\ntarget = df2[\"price\"]\nfeatures = df2[[\"carat\",\"depth\"]]\n```\n\n</details>\n",
      "metadata": {}
    },
    {
      "cell_type": "markdown",
      "source": "### Exercise 3 - Build and Train a new Linear Regression Model\n",
      "metadata": {}
    },
    {
      "cell_type": "markdown",
      "source": "Create a new Linear Regression Model\n",
      "metadata": {}
    },
    {
      "cell_type": "code",
      "source": "lr2 = #TODO\nlr2.fit #TODO",
      "metadata": {},
      "outputs": [],
      "execution_count": null
    },
    {
      "cell_type": "markdown",
      "source": "<details>\n    <summary>Click here for a Hint</summary>\n    \nfit using the features and target\n</details>\n",
      "metadata": {}
    },
    {
      "cell_type": "markdown",
      "source": "<details>\n    <summary>Click here for Solution</summary>\n\n```python\nlr2 = LinearRegression()\nlr2.fit(features,target)\n\n```\n\n</details>\n",
      "metadata": {}
    },
    {
      "cell_type": "markdown",
      "source": "### Exercise 4 - Evaluate the model\n",
      "metadata": {}
    },
    {
      "cell_type": "markdown",
      "source": "Print the score of the model\n",
      "metadata": {}
    },
    {
      "cell_type": "code",
      "source": "#your code goes here",
      "metadata": {},
      "outputs": [],
      "execution_count": null
    },
    {
      "cell_type": "markdown",
      "source": "<details>\n    <summary>Click here for a Hint</summary>\n    \nuse the score() method\n</details>\n",
      "metadata": {}
    },
    {
      "cell_type": "markdown",
      "source": "<details>\n    <summary>Click here for Solution</summary>\n\n```python\nlr2.score(features,target)\n\n```\n\n</details>\n",
      "metadata": {}
    },
    {
      "cell_type": "markdown",
      "source": "### Exercise 5 - Predict the price of a diamond\n",
      "metadata": {}
    },
    {
      "cell_type": "markdown",
      "source": "Predict the price of a diamond with carat = 0.3 and depth = 60\n",
      "metadata": {}
    },
    {
      "cell_type": "code",
      "source": "#your code goes herelr2.predict([[0.3, 60]])",
      "metadata": {},
      "outputs": [],
      "execution_count": null
    },
    {
      "cell_type": "markdown",
      "source": "<details>\n    <summary>Click here for a Hint</summary>\n    \nuse the predict() method\n</details>\n",
      "metadata": {}
    },
    {
      "cell_type": "markdown",
      "source": "<details>\n    <summary>Click here for Solution</summary>\n\n```python\nlr2.predict([[0.3, 60]])\n\n```\n\n</details>\n",
      "metadata": {}
    },
    {
      "cell_type": "markdown",
      "source": "Congratulations! You have completed this lab.<br>\nYou are encouraged to experiment creating models with more than 2 feature columns\n",
      "metadata": {}
    },
    {
      "cell_type": "markdown",
      "source": "## Authors\n",
      "metadata": {}
    },
    {
      "cell_type": "markdown",
      "source": "[Ramesh Sannareddy](https://www.linkedin.com/in/rsannareddy/)\n",
      "metadata": {}
    },
    {
      "cell_type": "markdown",
      "source": "## Contributors\n[Vicky Kuo](https://author.skills.network/instructors/vicky_kuo)\n",
      "metadata": {}
    },
    {
      "cell_type": "markdown",
      "source": "Copyright © 2023 IBM Corporation. All rights reserved.\n",
      "metadata": {}
    },
    {
      "cell_type": "markdown",
      "source": "```{toggle} ## Change Log\n```\n",
      "metadata": {}
    },
    {
      "cell_type": "markdown",
      "source": "```{toggle} |Date (YYYY-MM-DD)|Version|Changed By|Change Description|\n```\n```{toggle} |-|-|-|-|\n```\n```{toggle} |2023-04-14|0.1|Ramesh Sannareddy|Initial Version Created|\n```\n```{toggle} |2023-06-20|0.3|Vicky Kuo|Proofreading|\n```\n",
      "metadata": {}
    }
  ]
}